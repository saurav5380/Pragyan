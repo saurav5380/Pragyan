{
 "cells": [
  {
   "cell_type": "code",
   "execution_count": 1,
   "id": "d3236f5b",
   "metadata": {},
   "outputs": [],
   "source": [
    "stock = {\n",
    "  \"NSE:INFY\": {\n",
    "    \"instrument_token\": 77889,\n",
    "    \"timestamp\": \"2025-09-10 15:30:00\",\n",
    "    \"last_price\": 1480.85,\n",
    "    \"ohlc\": {\n",
    "      \"open\": 1475.00,\n",
    "      \"high\": 1485.20,\n",
    "      \"low\": 1470.00,\n",
    "      \"close\": 1478.50\n",
    "    },\n",
    "    \"volume\": 1200000,\n",
    "    \"change\": 0.16,\n",
    "    \"average_price\": 1479.55,\n",
    "    \"oi\": 0,\n",
    "    \"oi_day_high\": 0,\n",
    "    \"oi_day_low\": 0,\n",
    "    \"lower_circuit_limit\": 1330.65,\n",
    "    \"upper_circuit_limit\": 1626.35\n",
    "  }\n",
    "}"
   ]
  },
  {
   "cell_type": "code",
   "execution_count": 2,
   "id": "e267722e",
   "metadata": {},
   "outputs": [
    {
     "name": "stdout",
     "output_type": "stream",
     "text": [
      "Symbol:NSE:INFY\n",
      "******************************\n",
      "Quote:{'instrument_token': 77889, 'timestamp': '2025-09-10 15:30:00', 'last_price': 1480.85, 'ohlc': {'open': 1475.0, 'high': 1485.2, 'low': 1470.0, 'close': 1478.5}, 'volume': 1200000, 'change': 0.16, 'average_price': 1479.55, 'oi': 0, 'oi_day_high': 0, 'oi_day_low': 0, 'lower_circuit_limit': 1330.65, 'upper_circuit_limit': 1626.35}\n"
     ]
    }
   ],
   "source": [
    "for symbol, quote in stock.items():\n",
    "    print(f\"Symbol:{symbol}\")\n",
    "    print(\"*\" * 30)\n",
    "    print(f\"Quote:{quote}\")\n",
    "\n"
   ]
  },
  {
   "cell_type": "code",
   "execution_count": 10,
   "id": "fd27de00",
   "metadata": {},
   "outputs": [],
   "source": [
    "import pandas as pd\n",
    "import random\n",
    "data = {\n",
    "        'symbol': [\n",
    "            'INFY', 'TCS', 'RELIANCE', 'HDFC', 'ICICIBANK',\n",
    "            'AXISBANK', 'HCLTECH', 'LT', 'SBI', 'MARUTI'\n",
    "        ],\n",
    "        'instrument_token': [\n",
    "            random.randint(10000, 99999) for _ in range(10)\n",
    "        ],\n",
    "        'last_traded_price': [\n",
    "            round(random.uniform(100, 2000), 2) for _ in range(10)\n",
    "        ],\n",
    "        'volume': [\n",
    "            random.randint(100000, 5000000) for _ in range(10)\n",
    "        ]\n",
    "    }\n",
    "data_df = pd.DataFrame(data)"
   ]
  },
  {
   "cell_type": "code",
   "execution_count": null,
   "id": "81a1a8b4",
   "metadata": {},
   "outputs": [],
   "source": [
    "print(data_df)\n"
   ]
  },
  {
   "cell_type": "code",
   "execution_count": 12,
   "id": "75fbcde6",
   "metadata": {},
   "outputs": [
    {
     "name": "stdout",
     "output_type": "stream",
     "text": [
      "      symbol  instrument_token\n",
      "0       INFY             32757\n",
      "1        TCS             83345\n",
      "2   RELIANCE             75280\n",
      "3       HDFC             72760\n",
      "4  ICICIBANK             98505\n",
      "5   AXISBANK             28590\n",
      "6    HCLTECH             14498\n",
      "7         LT             49528\n",
      "8        SBI             65816\n",
      "9     MARUTI             46344\n"
     ]
    }
   ],
   "source": [
    "selected_cols = [\"symbol\", \"instrument_token\"]\n",
    "df = data_df[selected_cols].copy()\n",
    "print(df)\n"
   ]
  },
  {
   "cell_type": "code",
   "execution_count": 15,
   "id": "e599e5ad",
   "metadata": {},
   "outputs": [
    {
     "name": "stdout",
     "output_type": "stream",
     "text": [
      "INFY\n",
      "TCS\n",
      "RELIANCE\n",
      "HDFC\n",
      "ICICIBANK\n",
      "AXISBANK\n",
      "HCLTECH\n",
      "LT\n",
      "SBI\n",
      "MARUTI\n"
     ]
    }
   ],
   "source": [
    "for symbol in df[\"symbol\"]:\n",
    "    print(symbol)"
   ]
  }
 ],
 "metadata": {
  "kernelspec": {
   "display_name": "Python 3",
   "language": "python",
   "name": "python3"
  },
  "language_info": {
   "codemirror_mode": {
    "name": "ipython",
    "version": 3
   },
   "file_extension": ".py",
   "mimetype": "text/x-python",
   "name": "python",
   "nbconvert_exporter": "python",
   "pygments_lexer": "ipython3",
   "version": "3.11.0"
  }
 },
 "nbformat": 4,
 "nbformat_minor": 5
}
